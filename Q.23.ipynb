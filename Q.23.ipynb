{
 "cells": [
  {
   "cell_type": "code",
   "execution_count": 1,
   "id": "e5558012",
   "metadata": {},
   "outputs": [],
   "source": [
    "from scipy import stats\n",
    "from scipy.stats import norm"
   ]
  },
  {
   "cell_type": "code",
   "execution_count": 2,
   "id": "2ee1de7b",
   "metadata": {},
   "outputs": [
    {
     "data": {
      "text/plain": [
       "2.059538552753294"
      ]
     },
     "execution_count": 2,
     "metadata": {},
     "output_type": "execute_result"
    }
   ],
   "source": [
    "stats.t.ppf(0.975,25)"
   ]
  },
  {
   "cell_type": "code",
   "execution_count": 3,
   "id": "bf61ab88",
   "metadata": {},
   "outputs": [
    {
     "data": {
      "text/plain": [
       "2.1665866344527562"
      ]
     },
     "execution_count": 3,
     "metadata": {},
     "output_type": "execute_result"
    }
   ],
   "source": [
    "stats.t.ppf(0.98,25)"
   ]
  },
  {
   "cell_type": "code",
   "execution_count": 4,
   "id": "ecb33286",
   "metadata": {},
   "outputs": [
    {
     "data": {
      "text/plain": [
       "2.4851071754106413"
      ]
     },
     "execution_count": 4,
     "metadata": {},
     "output_type": "execute_result"
    }
   ],
   "source": [
    "stats.t.ppf(0.99,25)"
   ]
  },
  {
   "cell_type": "code",
   "execution_count": null,
   "id": "e5ee40de",
   "metadata": {},
   "outputs": [],
   "source": []
  }
 ],
 "metadata": {
  "kernelspec": {
   "display_name": "Python 3 (ipykernel)",
   "language": "python",
   "name": "python3"
  },
  "language_info": {
   "codemirror_mode": {
    "name": "ipython",
    "version": 3
   },
   "file_extension": ".py",
   "mimetype": "text/x-python",
   "name": "python",
   "nbconvert_exporter": "python",
   "pygments_lexer": "ipython3",
   "version": "3.9.13"
  }
 },
 "nbformat": 4,
 "nbformat_minor": 5
}
